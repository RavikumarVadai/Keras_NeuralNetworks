{
 "cells": [
  {
   "cell_type": "code",
   "execution_count": 1,
   "metadata": {},
   "outputs": [
    {
     "name": "stdout",
     "output_type": "stream",
     "text": [
      "[INFO] import necessary packages\n"
     ]
    },
    {
     "name": "stderr",
     "output_type": "stream",
     "text": [
      "C:\\Users\\RAVIKUMAR\\Anaconda3\\lib\\site-packages\\h5py\\__init__.py:36: FutureWarning: Conversion of the second argument of issubdtype from `float` to `np.floating` is deprecated. In future, it will be treated as `np.float64 == np.dtype(float).type`.\n",
      "  from ._conv import register_converters as _register_converters\n",
      "Using TensorFlow backend.\n"
     ]
    }
   ],
   "source": [
    "print('[INFO] import necessary packages')\n",
    "from keras.models import Sequential\n",
    "#from keras.layers.convolutional import Conv2D\n",
    "from keras.layers.core import Activation, Flatten, Dense\n",
    "from keras import backend as K\n",
    "from keras.optimizers import SGD\n",
    "from sklearn.metrics import classification_report\n",
    "from keras.datasets import mnist\n",
    "import numpy as np\n",
    "from keras.utils import to_categorical\n",
    "import matplotlib.pyplot as plt"
   ]
  },
  {
   "cell_type": "code",
   "execution_count": 2,
   "metadata": {},
   "outputs": [
    {
     "name": "stdout",
     "output_type": "stream",
     "text": [
      "[INFO] loading data from keras datasets\n"
     ]
    }
   ],
   "source": [
    "print('[INFO] loading data from keras datasets')\n",
    "(train_data, train_labels), (test_data, test_label) = mnist.load_data()"
   ]
  },
  {
   "cell_type": "code",
   "execution_count": 3,
   "metadata": {},
   "outputs": [
    {
     "name": "stdout",
     "output_type": "stream",
     "text": [
      "[INFO] training and test data shape\n"
     ]
    },
    {
     "data": {
      "text/plain": [
       "((60000, 28, 28), (10000, 28, 28))"
      ]
     },
     "execution_count": 3,
     "metadata": {},
     "output_type": "execute_result"
    }
   ],
   "source": [
    "print(\"[INFO] training and test data shape\")\n",
    "train_data.shape, test_data.shape"
   ]
  },
  {
   "cell_type": "code",
   "execution_count": 4,
   "metadata": {},
   "outputs": [
    {
     "name": "stdout",
     "output_type": "stream",
     "text": [
      "[INFO] performing normalisation\n"
     ]
    }
   ],
   "source": [
    "print(\"[INFO] performing normalisation\")\n",
    "trainX_ = train_data.astype(\"float\") / 255.0\n",
    "testX_ = test_data.astype(\"float\") / 255.0\n",
    "trainX = trainX_.reshape((trainX_.shape[0], 784))\n",
    "testX = testX_.reshape((testX_.shape[0], 784))\n",
    "labels = ['0.', '1', '2', '3', '4', '5', '6', '7', '8', '9']"
   ]
  },
  {
   "cell_type": "code",
   "execution_count": 5,
   "metadata": {},
   "outputs": [
    {
     "name": "stdout",
     "output_type": "stream",
     "text": [
      "[INFO] one hot encode with keras\n"
     ]
    }
   ],
   "source": [
    "print(\"[INFO] one hot encode with keras\")\n",
    "trainY = to_categorical(train_labels)\n",
    "testY = to_categorical(test_label)"
   ]
  },
  {
   "cell_type": "code",
   "execution_count": 6,
   "metadata": {},
   "outputs": [
    {
     "name": "stdout",
     "output_type": "stream",
     "text": [
      "[INFO]defining architecture using Keras\n"
     ]
    }
   ],
   "source": [
    "print(\"[INFO]defining architecture using Keras\")\n",
    "model = Sequential()\n",
    "model.add(Dense(256, input_shape=(784,), activation=\"relu\"))\n",
    "model.add(Dense(64, activation=\"relu\"))\n",
    "model.add(Dense(10, activation=\"softmax\"))"
   ]
  },
  {
   "cell_type": "code",
   "execution_count": 7,
   "metadata": {},
   "outputs": [
    {
     "name": "stdout",
     "output_type": "stream",
     "text": [
      "[INFO] training network...\n",
      "Train on 60000 samples, validate on 10000 samples\n",
      "Epoch 1/10\n",
      "60000/60000 [==============================] - 11s 180us/step - loss: 0.4463 - acc: 0.8774 - val_loss: 0.2408 - val_acc: 0.9311\n",
      "Epoch 2/10\n",
      "60000/60000 [==============================] - 12s 205us/step - loss: 0.2215 - acc: 0.9366 - val_loss: 0.1818 - val_acc: 0.9473\n",
      "Epoch 3/10\n",
      "60000/60000 [==============================] - 12s 193us/step - loss: 0.1667 - acc: 0.9514 - val_loss: 0.1458 - val_acc: 0.9572\n",
      "Epoch 4/10\n",
      "60000/60000 [==============================] - 10s 171us/step - loss: 0.1334 - acc: 0.9615 - val_loss: 0.1249 - val_acc: 0.96120s - loss: 0.1346\n",
      "Epoch 5/10\n",
      "60000/60000 [==============================] - 11s 175us/step - loss: 0.1106 - acc: 0.9681 - val_loss: 0.1077 - val_acc: 0.9668\n",
      "Epoch 6/10\n",
      "60000/60000 [==============================] - 10s 172us/step - loss: 0.0943 - acc: 0.9726 - val_loss: 0.0997 - val_acc: 0.9694\n",
      "Epoch 7/10\n",
      "60000/60000 [==============================] - 11s 187us/step - loss: 0.0812 - acc: 0.9766 - val_loss: 0.0912 - val_acc: 0.9712\n",
      "Epoch 8/10\n",
      "60000/60000 [==============================] - 11s 186us/step - loss: 0.0716 - acc: 0.9797 - val_loss: 0.0850 - val_acc: 0.9734\n",
      "Epoch 9/10\n",
      "60000/60000 [==============================] - 12s 193us/step - loss: 0.0633 - acc: 0.9819 - val_loss: 0.0813 - val_acc: 0.9744\n",
      "Epoch 10/10\n",
      "60000/60000 [==============================] - 11s 185us/step - loss: 0.0566 - acc: 0.9838 - val_loss: 0.0758 - val_acc: 0.9762\n",
      "[INFO] evaluating network...\n",
      "             precision    recall  f1-score   support\n",
      "\n",
      "         0.       0.98      0.99      0.98       980\n",
      "          1       0.99      0.99      0.99      1135\n",
      "          2       0.98      0.98      0.98      1032\n",
      "          3       0.98      0.98      0.98      1010\n",
      "          4       0.98      0.97      0.97       982\n",
      "          5       0.97      0.97      0.97       892\n",
      "          6       0.98      0.97      0.97       958\n",
      "          7       0.97      0.98      0.97      1028\n",
      "          8       0.98      0.97      0.97       974\n",
      "          9       0.97      0.97      0.97      1009\n",
      "\n",
      "avg / total       0.98      0.98      0.98     10000\n",
      "\n"
     ]
    },
    {
     "data": {
      "image/png": "[encoded data removed]",
      "text/plain": [
       "<matplotlib.figure.Figure at 0x246387fd208>"
      ]
     },
     "metadata": {},
     "output_type": "display_data"
    }
   ],
   "source": [
    "print(\"[INFO] training network...\")\n",
    "sgd = SGD(0.01)\n",
    "model.compile(loss=\"categorical_crossentropy\", optimizer=sgd,metrics=[\"accuracy\"])\n",
    "H = model.fit(trainX, trainY, validation_data=(testX, testY),epochs=10, batch_size=16)\n",
    "\n",
    "print(\"[INFO] evaluating network...\")\n",
    "predictions = model.predict(testX, batch_size=16)\n",
    "print(classification_report(testY.argmax(axis=1),predictions.argmax(axis=1),target_names= labels))\n",
    "\n",
    "plt.style.use(\"ggplot\")\n",
    "plt.figure()\n",
    "plt.plot(np.arange(0, 10), H.history[\"loss\"], label=\"train_loss\")\n",
    "plt.plot(np.arange(0, 10), H.history[\"val_loss\"], label=\"val_loss\")\n",
    "plt.plot(np.arange(0, 10), H.history[\"acc\"], label=\"train_acc\")\n",
    "plt.plot(np.arange(0, 10), H.history[\"val_acc\"], label=\"val_acc\")\n",
    "plt.title(\"Training Loss and Accuracy\")\n",
    "plt.xlabel(\"Epoch #\")\n",
    "plt.ylabel(\"Loss/Accuracy\")\n",
    "plt.legend()\n",
    "plt.show()"
   ]
  },
  {
   "cell_type": "code",
   "execution_count": null,
   "metadata": {},
   "outputs": [],
   "source": []
  }
 ],
 "metadata": {
  "kernelspec": {
   "display_name": "Python 3",
   "language": "python",
   "name": "python3"
  },
  "language_info": {
   "codemirror_mode": {
    "name": "ipython",
    "version": 3
   },
   "file_extension": ".py",
   "mimetype": "text/x-python",
   "name": "python",
   "nbconvert_exporter": "python",
   "pygments_lexer": "ipython3",
   "version": "3.6.4"
  }
 },
 "nbformat": 4,
 "nbformat_minor": 2
}
