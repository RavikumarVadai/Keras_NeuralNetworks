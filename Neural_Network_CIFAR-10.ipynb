{
 "cells": [
  {
   "cell_type": "code",
   "execution_count": 1,
   "metadata": {},
   "outputs": [
    {
     "name": "stdout",
     "output_type": "stream",
     "text": [
      "[INFO] importing necessary packages\n"
     ]
    },
    {
     "name": "stderr",
     "output_type": "stream",
     "text": [
      "C:\\Users\\RAVIKUMAR\\Anaconda3\\lib\\site-packages\\h5py\\__init__.py:36: FutureWarning: Conversion of the second argument of issubdtype from `float` to `np.floating` is deprecated. In future, it will be treated as `np.float64 == np.dtype(float).type`.\n",
      "  from ._conv import register_converters as _register_converters\n",
      "Using TensorFlow backend.\n"
     ]
    }
   ],
   "source": [
    "print(\"[INFO] importing necessary packages\")\n",
    "import numpy as np\n",
    "from sklearn.preprocessing import LabelBinarizer\n",
    "from sklearn.metrics import classification_report\n",
    "from keras.optimizers import SGD\n",
    "from keras.datasets import cifar10\n",
    "import matplotlib.pyplot as plt\n",
    "from keras.models import Sequential\n",
    "from keras.layers.convolutional import Conv2D\n",
    "from keras.layers import MaxPooling2D,Dropout\n",
    "from keras.layers.core import Activation, Flatten, Dense\n",
    "from keras import backend as K\n",
    "from keras.optimizers import SGD\n",
    "from sklearn.metrics import classification_report"
   ]
  },
  {
   "cell_type": "code",
   "execution_count": 2,
   "metadata": {},
   "outputs": [
    {
     "name": "stdout",
     "output_type": "stream",
     "text": [
      "[INFO] loading data from keras datasets\n"
     ]
    }
   ],
   "source": [
    "print(\"[INFO] loading data from keras datasets\")\n",
    "((train_data, train_labels), (test_data, test_labels)) = cifar10.load_data()"
   ]
  },
  {
   "cell_type": "code",
   "execution_count": 3,
   "metadata": {},
   "outputs": [
    {
     "name": "stdout",
     "output_type": "stream",
     "text": [
      "[INFO] displaying shapes of the training and test datasets\n"
     ]
    },
    {
     "data": {
      "text/plain": [
       "((50000, 32, 32, 3), (10000, 32, 32, 3))"
      ]
     },
     "execution_count": 3,
     "metadata": {},
     "output_type": "execute_result"
    }
   ],
   "source": [
    "print(\"[INFO] displaying shapes of the training and test datasets\")\n",
    "train_data.shape, test_data.shape"
   ]
  },
  {
   "cell_type": "code",
   "execution_count": 4,
   "metadata": {},
   "outputs": [
    {
     "name": "stdout",
     "output_type": "stream",
     "text": [
      "[INFO] Standardisation\n"
     ]
    }
   ],
   "source": [
    "print(\"[INFO] Standardisation\")\n",
    "trainX = train_data.astype(\"float\")/255.0\n",
    "testX = test_data.astype(\"float\")/255.0"
   ]
  },
  {
   "cell_type": "code",
   "execution_count": 5,
   "metadata": {},
   "outputs": [
    {
     "name": "stdout",
     "output_type": "stream",
     "text": [
      "[INFO] label names\n"
     ]
    }
   ],
   "source": [
    "print(\"[INFO] label names\")\n",
    "labels = [\"airplane\", \"automobile\", \"bird\", \"cat\", \"deer\",\"dog\", \"frog\", \"horse\", \"ship\", \"truck\"]"
   ]
  },
  {
   "cell_type": "code",
   "execution_count": 6,
   "metadata": {},
   "outputs": [
    {
     "name": "stdout",
     "output_type": "stream",
     "text": [
      "[INFO] converting labels from integers into vectors using sklearn library\n"
     ]
    }
   ],
   "source": [
    "print(\"[INFO] converting labels from integers into vectors using sklearn library\")\n",
    "lb = LabelBinarizer()\n",
    "trainY = lb.fit_transform(train_labels)\n",
    "testY = lb.transform(test_labels)"
   ]
  },
  {
   "cell_type": "code",
   "execution_count": 7,
   "metadata": {},
   "outputs": [
    {
     "name": "stdout",
     "output_type": "stream",
     "text": [
      "[INFO] input shape initialisation\n"
     ]
    }
   ],
   "source": [
    "print(\"[INFO] input shape initialisation\")\n",
    "height = 32\n",
    "width = 32\n",
    "depth = 3\n",
    "classes = 10\n",
    "inputshape = (height, width, depth)"
   ]
  },
  {
   "cell_type": "code",
   "execution_count": 8,
   "metadata": {},
   "outputs": [
    {
     "name": "stdout",
     "output_type": "stream",
     "text": [
      "[INFO] compiling model...\n",
      "[INFO] training network...\n",
      "Train on 50000 samples, validate on 10000 samples\n",
      "Epoch 1/40\n",
      "50000/50000 [==============================] - 65s 1ms/step - loss: 1.8841 - acc: 0.3367 - val_loss: 1.6866 - val_acc: 0.4136\n",
      "Epoch 2/40\n",
      "50000/50000 [==============================] - 65s 1ms/step - loss: 1.5904 - acc: 0.4443 - val_loss: 1.4745 - val_acc: 0.4884\n",
      "Epoch 3/40\n",
      "50000/50000 [==============================] - 66s 1ms/step - loss: 1.4369 - acc: 0.4990 - val_loss: 1.3902 - val_acc: 0.5101\n",
      "Epoch 4/40\n",
      "50000/50000 [==============================] - 67s 1ms/step - loss: 1.3505 - acc: 0.5290 - val_loss: 1.3117 - val_acc: 0.5410\n",
      "Epoch 5/40\n",
      "50000/50000 [==============================] - 67s 1ms/step - loss: 1.3038 - acc: 0.5458 - val_loss: 1.3052 - val_acc: 0.5346\n",
      "Epoch 6/40\n",
      "50000/50000 [==============================] - 66s 1ms/step - loss: 1.2687 - acc: 0.5586 - val_loss: 1.2773 - val_acc: 0.5509\n",
      "Epoch 7/40\n",
      "50000/50000 [==============================] - 66s 1ms/step - loss: 1.2429 - acc: 0.5662 - val_loss: 1.2554 - val_acc: 0.5647\n",
      "Epoch 8/40\n",
      "50000/50000 [==============================] - 66s 1ms/step - loss: 1.2162 - acc: 0.5778 - val_loss: 1.2697 - val_acc: 0.5494\n",
      "Epoch 9/40\n",
      "50000/50000 [==============================] - 68s 1ms/step - loss: 1.1908 - acc: 0.5878 - val_loss: 1.1914 - val_acc: 0.5869\n",
      "Epoch 10/40\n",
      "50000/50000 [==============================] - 65s 1ms/step - loss: 1.1729 - acc: 0.5946 - val_loss: 1.1864 - val_acc: 0.5806\n",
      "Epoch 11/40\n",
      "50000/50000 [==============================] - 64s 1ms/step - loss: 1.1524 - acc: 0.6017 - val_loss: 1.2060 - val_acc: 0.5715\n",
      "Epoch 12/40\n",
      "50000/50000 [==============================] - 64s 1ms/step - loss: 1.1344 - acc: 0.6052 - val_loss: 1.2008 - val_acc: 0.5789\n",
      "Epoch 13/40\n",
      "50000/50000 [==============================] - 65s 1ms/step - loss: 1.1179 - acc: 0.6133 - val_loss: 1.1542 - val_acc: 0.5983\n",
      "Epoch 14/40\n",
      "50000/50000 [==============================] - 65s 1ms/step - loss: 1.1003 - acc: 0.6209 - val_loss: 1.1702 - val_acc: 0.5886\n",
      "Epoch 15/40\n",
      "50000/50000 [==============================] - 64s 1ms/step - loss: 1.0835 - acc: 0.6231 - val_loss: 1.1515 - val_acc: 0.5983\n",
      "Epoch 16/40\n",
      "50000/50000 [==============================] - 64s 1ms/step - loss: 1.0703 - acc: 0.6304 - val_loss: 1.1703 - val_acc: 0.5823\n",
      "Epoch 17/40\n",
      "50000/50000 [==============================] - 64s 1ms/step - loss: 1.0581 - acc: 0.6345 - val_loss: 1.1076 - val_acc: 0.6171\n",
      "Epoch 18/40\n",
      "50000/50000 [==============================] - 65s 1ms/step - loss: 1.0450 - acc: 0.6392 - val_loss: 1.1633 - val_acc: 0.5972\n",
      "Epoch 19/40\n",
      "50000/50000 [==============================] - 64s 1ms/step - loss: 1.0328 - acc: 0.6436 - val_loss: 1.0983 - val_acc: 0.6202\n",
      "Epoch 20/40\n",
      "50000/50000 [==============================] - 64s 1ms/step - loss: 1.0222 - acc: 0.6459 - val_loss: 1.0899 - val_acc: 0.6175\n",
      "Epoch 21/40\n",
      "50000/50000 [==============================] - 65s 1ms/step - loss: 1.0106 - acc: 0.6491 - val_loss: 1.0860 - val_acc: 0.6301\n",
      "Epoch 22/40\n",
      "50000/50000 [==============================] - 67s 1ms/step - loss: 1.0029 - acc: 0.6540 - val_loss: 1.0508 - val_acc: 0.6417\n",
      "Epoch 23/40\n",
      "50000/50000 [==============================] - 64s 1ms/step - loss: 0.9950 - acc: 0.6534 - val_loss: 1.0787 - val_acc: 0.6236\n",
      "Epoch 24/40\n",
      "50000/50000 [==============================] - 64s 1ms/step - loss: 0.9825 - acc: 0.6608 - val_loss: 1.1178 - val_acc: 0.6105\n",
      "Epoch 25/40\n",
      "50000/50000 [==============================] - 64s 1ms/step - loss: 0.9753 - acc: 0.6635 - val_loss: 1.0351 - val_acc: 0.6375\n",
      "Epoch 26/40\n",
      "50000/50000 [==============================] - 64s 1ms/step - loss: 0.9680 - acc: 0.6641 - val_loss: 1.0295 - val_acc: 0.6419\n",
      "Epoch 27/40\n",
      "50000/50000 [==============================] - 66s 1ms/step - loss: 0.9622 - acc: 0.6666 - val_loss: 1.0454 - val_acc: 0.6374\n",
      "Epoch 28/40\n",
      "50000/50000 [==============================] - 65s 1ms/step - loss: 0.9527 - acc: 0.6710 - val_loss: 1.0542 - val_acc: 0.6361\n",
      "Epoch 29/40\n",
      "50000/50000 [==============================] - 65s 1ms/step - loss: 0.9477 - acc: 0.6722 - val_loss: 1.1111 - val_acc: 0.6104\n",
      "Epoch 30/40\n",
      "50000/50000 [==============================] - 68s 1ms/step - loss: 0.9417 - acc: 0.6754 - val_loss: 1.0159 - val_acc: 0.6456\n",
      "Epoch 31/40\n",
      "50000/50000 [==============================] - 65s 1ms/step - loss: 0.9373 - acc: 0.6745 - val_loss: 1.0471 - val_acc: 0.6358\n",
      "Epoch 32/40\n",
      "50000/50000 [==============================] - 66s 1ms/step - loss: 0.9298 - acc: 0.6782 - val_loss: 1.0445 - val_acc: 0.6396\n",
      "Epoch 33/40\n",
      "50000/50000 [==============================] - 66s 1ms/step - loss: 0.9268 - acc: 0.6789 - val_loss: 1.1105 - val_acc: 0.6119\n",
      "Epoch 34/40\n",
      "50000/50000 [==============================] - 66s 1ms/step - loss: 0.9221 - acc: 0.6807 - val_loss: 1.0125 - val_acc: 0.6541\n",
      "Epoch 35/40\n",
      "50000/50000 [==============================] - 66s 1ms/step - loss: 0.9159 - acc: 0.6842 - val_loss: 1.0028 - val_acc: 0.6551\n",
      "Epoch 36/40\n",
      "50000/50000 [==============================] - 66s 1ms/step - loss: 0.9066 - acc: 0.6846 - val_loss: 1.0488 - val_acc: 0.6368\n",
      "Epoch 37/40\n",
      "50000/50000 [==============================] - 67s 1ms/step - loss: 0.9046 - acc: 0.6861 - val_loss: 1.0795 - val_acc: 0.6371\n",
      "Epoch 38/40\n",
      "50000/50000 [==============================] - 66s 1ms/step - loss: 0.9075 - acc: 0.6849 - val_loss: 1.0145 - val_acc: 0.6435\n",
      "Epoch 39/40\n",
      "50000/50000 [==============================] - 66s 1ms/step - loss: 0.8996 - acc: 0.6884 - val_loss: 1.0083 - val_acc: 0.6488\n",
      "Epoch 40/40\n",
      "50000/50000 [==============================] - 66s 1ms/step - loss: 0.8963 - acc: 0.6889 - val_loss: 1.0202 - val_acc: 0.6490\n",
      "[INFO] evaluating network...\n",
      "             precision    recall  f1-score   support\n",
      "\n",
      "   airplane       0.59      0.77      0.67      1000\n",
      " automobile       0.70      0.82      0.76      1000\n",
      "       bird       0.58      0.41      0.48      1000\n",
      "        cat       0.56      0.37      0.45      1000\n",
      "       deer       0.65      0.55      0.59      1000\n",
      "        dog       0.53      0.63      0.57      1000\n",
      "       frog       0.65      0.82      0.72      1000\n",
      "      horse       0.78      0.69      0.73      1000\n",
      "       ship       0.71      0.77      0.73      1000\n",
      "      truck       0.77      0.66      0.71      1000\n",
      "\n",
      "avg / total       0.65      0.65      0.64     10000\n",
      "\n"
     ]
    },
    {
     "data": {
      "image/png": "[encoded data removed]",
      "text/plain": [
       "<matplotlib.figure.Figure at 0x15d8009f7b8>"
      ]
     },
     "metadata": {},
     "output_type": "display_data"
    }
   ],
   "source": [
    "print(\"[INFO] compiling model...\")\n",
    "# using stochastic gradient descent optimiser\n",
    "opt = SGD(lr=0.01)\n",
    "model = Sequential()\n",
    "model.add(Conv2D(32,(3,3),activation = \"relu\", padding = \"same\", input_shape = inputshape))\n",
    "model.add(MaxPooling2D(pool_size = (2,2)))\n",
    "model.add(Dropout(0.25))\n",
    "\n",
    "model.add(Flatten())\n",
    "\n",
    "model.add(Dense(classes))\n",
    "model.add(Activation(\"softmax\"))\n",
    "\n",
    "model.compile(loss=\"categorical_crossentropy\", optimizer=opt, metrics=[\"accuracy\"])\n",
    "\n",
    "#training the the network\n",
    "print(\"[INFO] training network...\")\n",
    "H = model.fit(trainX, trainY, validation_data=(testX, testY), batch_size=32, epochs=40, verbose=1)\n",
    "\n",
    "print(\"[INFO] evaluating network...\")\n",
    "predictions = model.predict(testX, batch_size=32)\n",
    "print(classification_report(testY.argmax(axis=1),\n",
    "predictions.argmax(axis=1), target_names=labels))\n",
    "\n",
    "#visualisation \n",
    "plt.style.use(\"ggplot\")\n",
    "plt.figure()\n",
    "plt.plot(np.arange(0, 40), H.history[\"loss\"], label=\"train_loss\")\n",
    "plt.plot(np.arange(0, 40), H.history[\"val_loss\"], label=\"val_loss\")\n",
    "plt.plot(np.arange(0, 40), H.history[\"acc\"], label=\"train_acc\")\n",
    "plt.plot(np.arange(0, 40), H.history[\"val_acc\"], label=\"val_acc\")\n",
    "plt.title(\"Training Loss and Accuracy\")\n",
    "plt.xlabel(\"Epoch #\")\n",
    "plt.ylabel(\"Loss/Accuracy\")\n",
    "plt.legend()\n",
    "plt.show()"
   ]
  },
  {
   "cell_type": "code",
   "execution_count": 9,
   "metadata": {},
   "outputs": [
    {
     "name": "stdout",
     "output_type": "stream",
     "text": [
      "_________________________________________________________________\n",
      "Layer (type)                 Output Shape              Param #   \n",
      "=================================================================\n",
      "conv2d_1 (Conv2D)            (None, 32, 32, 32)        896       \n",
      "_________________________________________________________________\n",
      "max_pooling2d_1 (MaxPooling2 (None, 16, 16, 32)        0         \n",
      "_________________________________________________________________\n",
      "dropout_1 (Dropout)          (None, 16, 16, 32)        0         \n",
      "_________________________________________________________________\n",
      "flatten_1 (Flatten)          (None, 8192)              0         \n",
      "_________________________________________________________________\n",
      "dense_1 (Dense)              (None, 10)                81930     \n",
      "_________________________________________________________________\n",
      "activation_1 (Activation)    (None, 10)                0         \n",
      "=================================================================\n",
      "Total params: 82,826\n",
      "Trainable params: 82,826\n",
      "Non-trainable params: 0\n",
      "_________________________________________________________________\n"
     ]
    }
   ],
   "source": [
    "model.summary()"
   ]
  },
  {
   "cell_type": "code",
   "execution_count": null,
   "metadata": {},
   "outputs": [],
   "source": []
  }
 ],
 "metadata": {
  "kernelspec": {
   "display_name": "Python 3",
   "language": "python",
   "name": "python3"
  },
  "language_info": {
   "codemirror_mode": {
    "name": "ipython",
    "version": 3
   },
   "file_extension": ".py",
   "mimetype": "text/x-python",
   "name": "python",
   "nbconvert_exporter": "python",
   "pygments_lexer": "ipython3",
   "version": "3.6.4"
  }
 },
 "nbformat": 4,
 "nbformat_minor": 2
}
